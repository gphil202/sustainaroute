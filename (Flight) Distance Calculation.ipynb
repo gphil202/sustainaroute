{
 "cells": [
  {
   "cell_type": "code",
   "execution_count": 1,
   "id": "7488b41c",
   "metadata": {
    "ExecuteTime": {
     "end_time": "2024-01-29T19:32:53.890802400Z",
     "start_time": "2024-01-29T19:32:24.223099300Z"
    }
   },
   "outputs": [
    {
     "name": "stdout",
     "output_type": "stream",
     "text": [
      "Looking in indexes: https://pypi.org/simple, https://pypi.ngc.nvidia.com\n",
      "Collecting geopy\n",
      "  Downloading geopy-2.4.1-py3-none-any.whl (125 kB)\n",
      "Collecting geographiclib<3,>=1.52\n",
      "  Downloading geographiclib-2.0-py3-none-any.whl (40 kB)\n",
      "Installing collected packages: geographiclib, geopy\n",
      "Successfully installed geographiclib-2.0 geopy-2.4.1\n",
      "Error occurred: Non-successful status code 403\n",
      "Error occurred: Non-successful status code 403\n",
      "Could not calculate the distance due to an error.\n"
     ]
    }
   ],
   "source": [
    "!pip install geopy\n",
    "\n",
    "from geopy.geocoders import Nominatim\n",
    "from geopy.distance import geodesic\n",
    "\n",
    "def get_location_coordinates(location):\n",
    "    # Increased timeout for the geolocator\n",
    "    geolocator = Nominatim(user_agent=\"geoapiExercises\", timeout=10)\n",
    "    try:\n",
    "        location = geolocator.geocode(location)\n",
    "        if location:\n",
    "            return (location.latitude, location.longitude)\n",
    "        else:\n",
    "            print(f\"Could not find location: {location}\")\n",
    "            return None\n",
    "    except Exception as e:\n",
    "        print(f\"Error occurred: {e}\")\n",
    "        return None\n",
    "\n",
    "def calculate_distance(loc1, loc2):\n",
    "    loc1_coords = get_location_coordinates(loc1)\n",
    "    loc2_coords = get_location_coordinates(loc2)\n",
    "\n",
    "    if loc1_coords and loc2_coords:\n",
    "        distance = geodesic(loc1_coords, loc2_coords).kilometers\n",
    "        return distance\n",
    "    else:\n",
    "        return None\n",
    "\n",
    "# Input from user\n",
    "location1 = input(\"Enter the first location: \")\n",
    "location2 = input(\"Enter the second location: \")\n",
    "\n",
    "# Calculating the distance\n",
    "distance = calculate_distance(location1, location2)\n",
    "\n",
    "if distance is not None:\n",
    "    print(f\"The distance between {location1} and {location2} is approximately {distance:.2f} kilometers.\")\n",
    "else:\n",
    "    print(\"Could not calculate the distance due to an error.\")\n"
   ]
  },
  {
   "cell_type": "code",
   "execution_count": null,
   "id": "af1e2baf",
   "metadata": {
    "ExecuteTime": {
     "start_time": "2024-01-29T19:32:18.790267800Z"
    }
   },
   "outputs": [],
   "source": []
  },
  {
   "cell_type": "code",
   "outputs": [],
   "source": [],
   "metadata": {
    "collapsed": false
   },
   "id": "dfaf6003bc480b08"
  }
 ],
 "metadata": {
  "kernelspec": {
   "display_name": "Python 3 (ipykernel)",
   "language": "python",
   "name": "python3"
  },
  "language_info": {
   "codemirror_mode": {
    "name": "ipython",
    "version": 3
   },
   "file_extension": ".py",
   "mimetype": "text/x-python",
   "name": "python",
   "nbconvert_exporter": "python",
   "pygments_lexer": "ipython3",
   "version": "3.9.13"
  }
 },
 "nbformat": 4,
 "nbformat_minor": 5
}
