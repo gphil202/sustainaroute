{
 "cells": [
  {
   "cell_type": "code",
   "execution_count": 1,
   "id": "3f65e4c6-93dc-45c9-a344-30b5768f9ae2",
   "metadata": {
    "tags": []
   },
   "outputs": [
    {
     "data": {
      "text/plain": [
       "{'Petrol Car': 0.17048,\n",
       " 'Diesel Car': 0.17082,\n",
       " 'Ferry': 0.11286,\n",
       " 'Flight': 0.194}"
      ]
     },
     "execution_count": 1,
     "metadata": {},
     "output_type": "execute_result"
    }
   ],
   "source": [
    "import main as m\n",
    "\n",
    "distance = 200.0 # Gathered from notebook geolocation \n",
    "transport_options:dict = {\n",
    "    'Petrol Car' : m.CarPetrol.CO2_PER_km.value,\n",
    "    'Diesel Car': m.CarDiesel.CO2_PER_km.value,\n",
    "    'Ferry': m.MarineFuel.CO2_PER_km.value,\n",
    "    'Flight': m.AviationFuel.CO2_PER_km.value\n",
    "}\n",
    "transport_options"
   ]
  },
  {
   "cell_type": "code",
   "execution_count": 3,
   "id": "d3da75df-29aa-4c86-bcfc-8c902a7051a9",
   "metadata": {
    "tags": []
   },
   "outputs": [
    {
     "name": "stdout",
     "output_type": "stream",
     "text": [
      "Requirement already satisfied: inquirer in c:\\users\\ahami\\anaconda3\\lib\\site-packages (3.2.1)\n",
      "Requirement already satisfied: blessed>=1.19.0 in c:\\users\\ahami\\anaconda3\\lib\\site-packages (from inquirer) (1.20.0)\n",
      "Requirement already satisfied: editor>=1.6.0 in c:\\users\\ahami\\anaconda3\\lib\\site-packages (from inquirer) (1.6.5)\n",
      "Requirement already satisfied: readchar>=3.0.6 in c:\\users\\ahami\\anaconda3\\lib\\site-packages (from inquirer) (4.0.5)\n",
      "Requirement already satisfied: wcwidth>=0.1.4 in c:\\users\\ahami\\anaconda3\\lib\\site-packages (from blessed>=1.19.0->inquirer) (0.2.5)\n",
      "Requirement already satisfied: six>=1.9.0 in c:\\users\\ahami\\anaconda3\\lib\\site-packages (from blessed>=1.19.0->inquirer) (1.16.0)\n",
      "Requirement already satisfied: jinxed>=1.1.0 in c:\\users\\ahami\\anaconda3\\lib\\site-packages (from blessed>=1.19.0->inquirer) (1.2.1)\n",
      "Requirement already satisfied: runs in c:\\users\\ahami\\anaconda3\\lib\\site-packages (from editor>=1.6.0->inquirer) (1.2.0)\n",
      "Requirement already satisfied: xmod in c:\\users\\ahami\\anaconda3\\lib\\site-packages (from editor>=1.6.0->inquirer) (1.8.1)\n",
      "Requirement already satisfied: setuptools>=41.0 in c:\\users\\ahami\\anaconda3\\lib\\site-packages (from readchar>=3.0.6->inquirer) (68.0.0)\n",
      "Requirement already satisfied: ansicon in c:\\users\\ahami\\anaconda3\\lib\\site-packages (from jinxed>=1.1.0->blessed>=1.19.0->inquirer) (1.89.0)\n"
     ]
    },
    {
     "name": "stderr",
     "output_type": "stream",
     "text": [
      "C:\\Users\\ahami\\anaconda3\\Lib\\site-packages\\blessed\\terminal.py:183: UserWarning: Failed to setupterm(kind='xterm-color'): Could not find terminal xterm-color\n",
      "  warnings.warn(msg)\n"
     ]
    }
   ],
   "source": [
    "import sys\n",
    "# TODO: MAKE INQUIRER A PART OF THE VIRTUAL ENVIRONMENT\n",
    "!{sys.executable} -m pip install inquirer \n",
    "import inquirer"
   ]
  },
  {
   "cell_type": "code",
   "execution_count": null,
   "id": "f62fdeaf-3515-4938-8260-9921bd96a8aa",
   "metadata": {
    "tags": []
   },
   "outputs": [
    {
     "name": "stdout",
     "output_type": "stream",
     "text": [
      "\n",
      "[?] What mode of transport will you be taking?: Petrol Car\n",
      " > Petrol Car\n",
      "   Diesel Car\n",
      "   Ferry\n",
      "   Flight\n"
     ]
    }
   ],
   "source": [
    "# TODO: Implement emission calculation for trips with multiple means of transport\n",
    "# I.e. Train to an Airport then flight to destination\n",
    "user_options = [\n",
    "    inquirer.List('transport',\n",
    "                  message='What mode of transport will you be taking?',\n",
    "                  choices=['Petrol Car', 'Diesel Car', 'Ferry', 'Flight']\n",
    "                 )\n",
    "]\n",
    "user_transport = inquirer.prompt(user_options)\n",
    "print(user_transport['transport'])\n",
    "# TODO: Reimplement in Jupyterlab widgets with dropdowns / options to add multiple legs of a trip"
   ]
  },
  {
   "cell_type": "code",
   "execution_count": null,
   "id": "97d9d696-a24e-4081-b362-43dfecf09c34",
   "metadata": {},
   "outputs": [],
   "source": [
    "# potential calculation for lowest emissions\n",
    "\n",
    "lowest = ''\n",
    "for elem in transport_options:\n",
    "    transport, emissions = elem[0],elem[1]\n",
    "    if lowest is None:\n",
    "        lowest = transport\n",
    "    elif transport_option[lowest] < emissions:\n",
    "        continue\n",
    "    elif transport_option[lowest] > emissions:\n",
    "        lowest = transport"
   ]
  },
  {
   "cell_type": "code",
   "execution_count": null,
   "id": "c93ac903-d5e3-450d-91b9-4f6ea6844b1a",
   "metadata": {
    "tags": []
   },
   "outputs": [],
   "source": [
    "lowest"
   ]
  },
  {
   "cell_type": "code",
   "execution_count": null,
   "id": "4f066638-2844-4180-b500-89faa5555201",
   "metadata": {},
   "outputs": [],
   "source": []
  }
 ],
 "metadata": {
  "kernelspec": {
   "display_name": "Python 3 (ipykernel)",
   "language": "python",
   "name": "python3"
  },
  "language_info": {
   "codemirror_mode": {
    "name": "ipython",
    "version": 3
   },
   "file_extension": ".py",
   "mimetype": "text/x-python",
   "name": "python",
   "nbconvert_exporter": "python",
   "pygments_lexer": "ipython3",
   "version": "3.11.5"
  }
 },
 "nbformat": 4,
 "nbformat_minor": 5
}
