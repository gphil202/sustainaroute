{
 "cells": [
  {
   "cell_type": "code",
   "execution_count": 21,
   "id": "3f65e4c6-93dc-45c9-a344-30b5768f9ae2",
   "metadata": {
    "tags": []
   },
   "outputs": [
    {
     "data": {
      "text/plain": [
       "{'Car Petrol': 0.17048, 'Car Diesel': 0.17082}"
      ]
     },
     "execution_count": 21,
     "metadata": {},
     "output_type": "execute_result"
    }
   ],
   "source": [
    "import main as m\n",
    "\n",
    "distance = 200.0 # Gathered from notebook geolocation \n",
    "transport_options:dict = {\n",
    "    'Petrol Car' : m.CarPetrol.CO2_PER_km.value,\n",
    "    'Diesel Car': m.CarDiesel.CO2_PER_km.value,\n",
    "}\n",
    "transport_options"
   ]
  },
  {
   "cell_type": "code",
   "execution_count": 26,
   "id": "d3da75df-29aa-4c86-bcfc-8c902a7051a9",
   "metadata": {
    "tags": []
   },
   "outputs": [
    {
     "name": "stdout",
     "output_type": "stream",
     "text": [
      "Collecting inquirer\n",
      "  Obtaining dependency information for inquirer from https://files.pythonhosted.org/packages/a9/78/2bbc28190501b652782226a2bdcc4f7741ff927471b84774ddbdf9cb9854/inquirer-3.2.1-py3-none-any.whl.metadata\n",
      "  Downloading inquirer-3.2.1-py3-none-any.whl.metadata (6.8 kB)\n",
      "Collecting blessed>=1.19.0 (from inquirer)\n",
      "  Downloading blessed-1.20.0-py2.py3-none-any.whl (58 kB)\n",
      "     ---------------------------------------- 0.0/58.4 kB ? eta -:--:--\n",
      "     ------- -------------------------------- 10.2/58.4 kB ? eta -:--:--\n",
      "     -------------------------------------- 58.4/58.4 kB 764.0 kB/s eta 0:00:00\n",
      "Collecting editor>=1.6.0 (from inquirer)\n",
      "  Obtaining dependency information for editor>=1.6.0 from https://files.pythonhosted.org/packages/51/e3/a2f003fd307b066a3c6dbbe440ee8fe3a43495c577d1618fd6d332b4e217/editor-1.6.5-py3-none-any.whl.metadata\n",
      "  Downloading editor-1.6.5-py3-none-any.whl.metadata (2.3 kB)\n",
      "Collecting readchar>=3.0.6 (from inquirer)\n",
      "  Downloading readchar-4.0.5-py3-none-any.whl (8.5 kB)\n",
      "Requirement already satisfied: wcwidth>=0.1.4 in c:\\users\\ahami\\anaconda3\\lib\\site-packages (from blessed>=1.19.0->inquirer) (0.2.5)\n",
      "Requirement already satisfied: six>=1.9.0 in c:\\users\\ahami\\anaconda3\\lib\\site-packages (from blessed>=1.19.0->inquirer) (1.16.0)\n",
      "Collecting jinxed>=1.1.0 (from blessed>=1.19.0->inquirer)\n",
      "  Obtaining dependency information for jinxed>=1.1.0 from https://files.pythonhosted.org/packages/d8/96/f79f67f5f3c2d24bb8183a1d5bbf0ef4f39e343d49a46203e4d7a51ee849/jinxed-1.2.1-py2.py3-none-any.whl.metadata\n",
      "  Downloading jinxed-1.2.1-py2.py3-none-any.whl.metadata (4.7 kB)\n",
      "Collecting runs (from editor>=1.6.0->inquirer)\n",
      "  Obtaining dependency information for runs from https://files.pythonhosted.org/packages/81/2f/0bc8ca6f42ea647afcb056efe3546341bd75dc40892a68a65414d668fba0/runs-1.2.0-py3-none-any.whl.metadata\n",
      "  Downloading runs-1.2.0-py3-none-any.whl.metadata (10 kB)\n",
      "Collecting xmod (from editor>=1.6.0->inquirer)\n",
      "  Obtaining dependency information for xmod from https://files.pythonhosted.org/packages/33/6b/0dc75b64a764ea1cb8e4c32d1fb273c147304d4e5483cd58be482dc62e45/xmod-1.8.1-py3-none-any.whl.metadata\n",
      "  Downloading xmod-1.8.1-py3-none-any.whl.metadata (1.8 kB)\n",
      "Requirement already satisfied: setuptools>=41.0 in c:\\users\\ahami\\anaconda3\\lib\\site-packages (from readchar>=3.0.6->inquirer) (68.0.0)\n",
      "Collecting ansicon (from jinxed>=1.1.0->blessed>=1.19.0->inquirer)\n",
      "  Downloading ansicon-1.89.0-py2.py3-none-any.whl (63 kB)\n",
      "     ---------------------------------------- 0.0/63.7 kB ? eta -:--:--\n",
      "     ---------------------------------------- 63.7/63.7 kB 1.7 MB/s eta 0:00:00\n",
      "Downloading inquirer-3.2.1-py3-none-any.whl (18 kB)\n",
      "Downloading editor-1.6.5-py3-none-any.whl (4.0 kB)\n",
      "Downloading jinxed-1.2.1-py2.py3-none-any.whl (33 kB)\n",
      "Downloading runs-1.2.0-py3-none-any.whl (6.9 kB)\n",
      "Downloading xmod-1.8.1-py3-none-any.whl (4.6 kB)\n",
      "Installing collected packages: ansicon, xmod, readchar, jinxed, runs, blessed, editor, inquirer\n",
      "Successfully installed ansicon-1.89.0 blessed-1.20.0 editor-1.6.5 inquirer-3.2.1 jinxed-1.2.1 readchar-4.0.5 runs-1.2.0 xmod-1.8.1\n"
     ]
    }
   ],
   "source": [
    "import sys\n",
    "# TODO: MAKE INQUIRER A PART OF THE VIRTUAL ENVIRONMENT\n",
    "!{sys.executable} -m pip install inquirer \n",
    "import inquirer"
   ]
  },
  {
   "cell_type": "code",
   "execution_count": null,
   "id": "f62fdeaf-3515-4938-8260-9921bd96a8aa",
   "metadata": {
    "tags": []
   },
   "outputs": [
    {
     "name": "stdout",
     "output_type": "stream",
     "text": [
      "\n",
      "[?] What mode of transport will you be taking?: Petrol Car\n",
      " > Petrol Car\n",
      "   Diesel Car\n"
     ]
    }
   ],
   "source": [
    "# TODO: Implement emission calculation for trips with multiple means of transport\n",
    "# I.e. Train to an Airport then flight to destination\n",
    "user_options = [\n",
    "    inquirer.List('transport',\n",
    "                  message='What mode of transport will you be taking?',\n",
    "                  choices=['Petrol Car', 'Diesel Car']\n",
    "                 )\n",
    "]\n",
    "user_transport = inquirer.prompt(user_options)\n",
    "print(user_transport['transport'])\n",
    "# TODO: Reimplement in Jupyterlab widgets with dropdowns / options to add multiple legs of a trip"
   ]
  },
  {
   "cell_type": "code",
   "execution_count": null,
   "id": "97d9d696-a24e-4081-b362-43dfecf09c34",
   "metadata": {},
   "outputs": [],
   "source": []
  }
 ],
 "metadata": {
  "kernelspec": {
   "display_name": "Python 3 (ipykernel)",
   "language": "python",
   "name": "python3"
  },
  "language_info": {
   "codemirror_mode": {
    "name": "ipython",
    "version": 3
   },
   "file_extension": ".py",
   "mimetype": "text/x-python",
   "name": "python",
   "nbconvert_exporter": "python",
   "pygments_lexer": "ipython3",
   "version": "3.11.5"
  }
 },
 "nbformat": 4,
 "nbformat_minor": 5
}
